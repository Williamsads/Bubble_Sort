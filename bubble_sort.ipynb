{
 "cells": [
  {
   "cell_type": "markdown",
   "id": "b498be98",
   "metadata": {},
   "source": [
    "\n",
    "\n"
   ]
  },
  {
   "cell_type": "markdown",
   "id": "1e5dc58a",
   "metadata": {},
   "source": [
    "inicie \n",
    "   \n",
    "   para cada elemento i no array de tamanho n \n",
    "     para cada elemnto j no array de tamanho n - 1\n",
    "       se elemento i for maior que elemento j \n",
    "          troque os elementos i e j\n",
    "            exiba o array ordenado\n",
    "            \n",
    "fim            "
   ]
  },
  {
   "cell_type": "code",
   "execution_count": 6,
   "id": "fa57f505",
   "metadata": {},
   "outputs": [],
   "source": [
    "lista = [6, 7, 8, 3, 10, 19, 4, 1, 0, 61, 30, 16, 17, 82, 29, 34, 43, 21, 11, 39, 56, 67, 12]"
   ]
  },
  {
   "cell_type": "code",
   "execution_count": 4,
   "id": "9c8eed29",
   "metadata": {},
   "outputs": [],
   "source": [
    "def bubble_sort(arr):\n",
    "    n = len(arr)\n",
    "    \n",
    "    # para cada elemento i do array\n",
    "    \n",
    "    for i in range(n):\n",
    "        \n",
    "        # para cada elemento j do array\n",
    "        \n",
    "        for j in range(0, n-i-1):\n",
    "            \n",
    "            # se elemento j for maior que elemento j+1\n",
    "            \n",
    "            if arr[j] > arr[j+1]:  \n",
    "                \n",
    "                # troque os elementos j e j+1\n",
    "                \n",
    "                arr[j], arr[j+1] = arr[j+1], arr[j]\n",
    "    \n",
    "    return arr  \n"
   ]
  },
  {
   "cell_type": "code",
   "execution_count": 7,
   "id": "5a95414c",
   "metadata": {},
   "outputs": [
    {
     "name": "stdout",
     "output_type": "stream",
     "text": [
      "[0, 1, 3, 4, 6, 7, 8, 10, 11, 12, 16, 17, 19, 21, 29, 30, 34, 39, 43, 56, 61, 67, 82]\n"
     ]
    }
   ],
   "source": [
    "print(bubble_sort(lista))"
   ]
  },
  {
   "cell_type": "code",
   "execution_count": null,
   "id": "b7bde35b",
   "metadata": {},
   "outputs": [],
   "source": []
  }
 ],
 "metadata": {
  "kernelspec": {
   "display_name": "Python 3 (ipykernel)",
   "language": "python",
   "name": "python3"
  },
  "language_info": {
   "codemirror_mode": {
    "name": "ipython",
    "version": 3
   },
   "file_extension": ".py",
   "mimetype": "text/x-python",
   "name": "python",
   "nbconvert_exporter": "python",
   "pygments_lexer": "ipython3",
   "version": "3.9.13"
  }
 },
 "nbformat": 4,
 "nbformat_minor": 5
}
